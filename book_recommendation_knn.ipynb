{
  "cells": [
    {
      "cell_type": "code",
      "execution_count": null,
      "metadata": {
        "id": "Y1onB6kUvo4Z"
      },
      "outputs": [],
      "source": [
        "# import libraries (you may add additional imports but you may not have to)\n",
        "import numpy as np\n",
        "import pandas as pd\n",
        "from scipy.sparse import csr_matrix\n",
        "from sklearn.neighbors import NearestNeighbors\n",
        "import matplotlib.pyplot as plt"
      ]
    },
    {
      "cell_type": "code",
      "execution_count": null,
      "metadata": {
        "id": "iAQGqqO_vo4d",
        "colab": {
          "base_uri": "https://localhost:8080/"
        },
        "outputId": "dbd630cb-013c-4fb7-d167-759b215b901f"
      },
      "outputs": [
        {
          "output_type": "stream",
          "name": "stdout",
          "text": [
            "--2024-04-05 11:26:19--  https://cdn.freecodecamp.org/project-data/books/book-crossings.zip\n",
            "Resolving cdn.freecodecamp.org (cdn.freecodecamp.org)... 104.26.2.33, 104.26.3.33, 172.67.70.149, ...\n",
            "Connecting to cdn.freecodecamp.org (cdn.freecodecamp.org)|104.26.2.33|:443... connected.\n",
            "HTTP request sent, awaiting response... 200 OK\n",
            "Length: 26085508 (25M) [application/zip]\n",
            "Saving to: ‘book-crossings.zip’\n",
            "\n",
            "book-crossings.zip  100%[===================>]  24.88M   155MB/s    in 0.2s    \n",
            "\n",
            "2024-04-05 11:26:19 (155 MB/s) - ‘book-crossings.zip’ saved [26085508/26085508]\n",
            "\n",
            "Archive:  book-crossings.zip\n",
            "  inflating: BX-Book-Ratings.csv     \n",
            "  inflating: BX-Books.csv            \n",
            "  inflating: BX-Users.csv            \n"
          ]
        }
      ],
      "source": [
        "# get data files\n",
        "!wget https://cdn.freecodecamp.org/project-data/books/book-crossings.zip\n",
        "\n",
        "!unzip book-crossings.zip\n",
        "\n",
        "books_filename = 'BX-Books.csv'\n",
        "ratings_filename = 'BX-Book-Ratings.csv'"
      ]
    },
    {
      "cell_type": "code",
      "execution_count": null,
      "metadata": {
        "id": "NClILWOiEd6Q"
      },
      "outputs": [],
      "source": [
        "# import csv data into dataframes\n",
        "df_books = pd.read_csv(\n",
        "    books_filename,\n",
        "    encoding = \"ISO-8859-1\",\n",
        "    sep=\";\",\n",
        "    header=0,\n",
        "    names=['isbn', 'title', 'author'],\n",
        "    usecols=['isbn', 'title', 'author'],\n",
        "    dtype={'isbn': 'str', 'title': 'str', 'author': 'str'})\n",
        "\n",
        "df_ratings = pd.read_csv(\n",
        "    ratings_filename,\n",
        "    encoding = \"ISO-8859-1\",\n",
        "    sep=\";\",\n",
        "    header=0,\n",
        "    names=['user', 'isbn', 'rating'],\n",
        "    usecols=['user', 'isbn', 'rating'],\n",
        "    dtype={'user': 'int32', 'isbn': 'str', 'rating': 'float32'})"
      ]
    },
    {
      "cell_type": "code",
      "execution_count": null,
      "metadata": {
        "id": "xAcXjkCFCh0A",
        "colab": {
          "base_uri": "https://localhost:8080/"
        },
        "outputId": "239e675e-92dd-4789-9995-a06a9111b7dd"
      },
      "outputs": [
        {
          "output_type": "execute_result",
          "data": {
            "text/plain": [
              "[\"Where the Heart Is (Oprah's Book Club (Paperback))\",\n",
              " [['Blue Diary', 0.7145698],\n",
              "  ['The Lovely Bones: A Novel', 0.7158567],\n",
              "  ['I Know This Much Is True', 0.7496688],\n",
              "  ['Icy Sparks', 0.7646523],\n",
              "  ['The Weight of Water', 0.7678344]]]"
            ]
          },
          "metadata": {},
          "execution_count": 10
        }
      ],
      "source": [
        "# Data cleaning and preprocessing\n",
        "# Merge books and ratings dataframes\n",
        "merged_df = pd.merge(df_books, df_ratings, on='isbn')\n",
        "\n",
        "# Calculate rating counts for users and books\n",
        "user_rating_count = merged_df['user'].value_counts()\n",
        "book_rating_count = merged_df['title'].value_counts()\n",
        "\n",
        "# Filter out users with less than 200 ratings\n",
        "active_users = merged_df[merged_df['user'].isin(user_rating_count[user_rating_count >= 200].index)]\n",
        "\n",
        "# Filter out books with less than 100 ratings\n",
        "popular_books = active_users[active_users['title'].isin(book_rating_count[book_rating_count >= 100].index)]\n",
        "\n",
        "# Calculate average rating for each book\n",
        "average_rating = popular_books.groupby('title')['rating'].mean().reset_index()\n",
        "average_rating.columns = ['title', 'average_rating']  # Renaming the column to avoid conflicts\n",
        "\n",
        "# Merge average rating with original dataframe\n",
        "popular_books = pd.merge(popular_books, average_rating, on='title')\n",
        "\n",
        "# Create pivot table for user-item matrix\n",
        "pivot_df = popular_books.pivot_table(index='title', columns='user', values='rating').fillna(0)\n",
        "\n",
        "# Create Nearest Neighbors model\n",
        "from sklearn.neighbors import NearestNeighbors\n",
        "knn_model = NearestNeighbors(metric='cosine', algorithm='auto', n_neighbors=8)\n",
        "knn_model.fit(pivot_df.values)\n",
        "\n",
        "# Function to get book recommendations\n",
        "def get_recommends(book_title):\n",
        "    book_index = pivot_df.index.get_loc(book_title)\n",
        "    distances, indices = knn_model.kneighbors(pivot_df.iloc[book_index, :].values.reshape(1, -1), n_neighbors=6)\n",
        "    recommended_books = []\n",
        "    for i in range(1, len(distances.flatten())):\n",
        "        recommended_books.append([pivot_df.index[indices.flatten()[i]], distances.flatten()[i]])\n",
        "    return [book_title, recommended_books]\n",
        "\n",
        "# Test the function\n",
        "get_recommends(\"Where the Heart Is (Oprah's Book Club (Paperback))\")\n"
      ]
    }
  ],
  "metadata": {
    "colab": {
      "provenance": []
    },
    "kernelspec": {
      "display_name": "Python 3",
      "language": "python",
      "name": "python3"
    },
    "language_info": {
      "codemirror_mode": {
        "name": "ipython",
        "version": 3
      },
      "file_extension": ".py",
      "mimetype": "text/x-python",
      "name": "python",
      "nbconvert_exporter": "python",
      "pygments_lexer": "ipython3",
      "version": "3.6.5"
    }
  },
  "nbformat": 4,
  "nbformat_minor": 0
}